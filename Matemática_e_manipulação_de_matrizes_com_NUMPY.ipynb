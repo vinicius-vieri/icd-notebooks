{
  "nbformat": 4,
  "nbformat_minor": 0,
  "metadata": {
    "colab": {
      "provenance": []
    },
    "kernelspec": {
      "name": "python3",
      "display_name": "Python 3"
    },
    "language_info": {
      "name": "python"
    }
  },
  "cells": [
    {
      "cell_type": "markdown",
      "source": [
        "O NumPy (Numerical Python) é uma biblioteca de código aberto para a linguagem de programação Python que é usada principalmente para trabalhar com arrays multidimensionais e matrizes numéricas. Ele fornece funções matemáticas e de álgebra linear para operar em dados numéricos, tornando-o uma ferramenta popular para cientistas de dados, pesquisadores acadêmicos e engenheiros.\n",
        "\n",
        "O NumPy permite a manipulação eficiente de grandes conjuntos de dados numéricos, com capacidades de indexação, slicing, broadcasting, operações matemáticas e muito mais. Ele também inclui funções para processamento de sinais, estatísticas e transformações de Fourier.\n",
        "\n",
        "O NumPy é amplamente utilizado em conjunto com outras bibliotecas populares de Python, como Pandas, Matplotlib e SciPy, para realizar análises de dados, visualização e modelagem matemática. Além disso, muitas bibliotecas de aprendizado de máquina e inteligência artificial, como TensorFlow e PyTorch, dependem do NumPy como base para a manipulação de dados."
      ],
      "metadata": {
        "id": "EWsFcYF2BXkm"
      }
    },
    {
      "cell_type": "code",
      "source": [
        "import numpy as np"
      ],
      "metadata": {
        "id": "w3ooKwNHBZyw"
      },
      "execution_count": 2,
      "outputs": []
    },
    {
      "cell_type": "code",
      "source": [
        "# criando arrays no numpy\n",
        "\n",
        "array = np.array([1,2,3,4,5,6])\n"
      ],
      "metadata": {
        "id": "QrimF_gFBp5H"
      },
      "execution_count": 3,
      "outputs": []
    },
    {
      "cell_type": "code",
      "source": [
        "array"
      ],
      "metadata": {
        "colab": {
          "base_uri": "https://localhost:8080/"
        },
        "id": "qSUR262RByPF",
        "outputId": "19b07179-4902-45c8-fa72-5649919561fb"
      },
      "execution_count": 4,
      "outputs": [
        {
          "output_type": "execute_result",
          "data": {
            "text/plain": [
              "array([1, 2, 3, 4, 5, 6])"
            ]
          },
          "metadata": {},
          "execution_count": 4
        }
      ]
    },
    {
      "cell_type": "code",
      "source": [
        "array.shape"
      ],
      "metadata": {
        "colab": {
          "base_uri": "https://localhost:8080/"
        },
        "id": "QZMuUh8XBxv7",
        "outputId": "c2ed2b3b-d182-4126-8ca5-e70b4701e5e7"
      },
      "execution_count": 5,
      "outputs": [
        {
          "output_type": "execute_result",
          "data": {
            "text/plain": [
              "(6,)"
            ]
          },
          "metadata": {},
          "execution_count": 5
        }
      ]
    },
    {
      "cell_type": "code",
      "source": [
        "# No numpy a indexação segue a mesma lógica\n",
        "\n",
        "array[1]"
      ],
      "metadata": {
        "colab": {
          "base_uri": "https://localhost:8080/"
        },
        "id": "NTHRCak4B1gx",
        "outputId": "870810cc-a127-445c-df98-574a89a7e6b3"
      },
      "execution_count": 6,
      "outputs": [
        {
          "output_type": "execute_result",
          "data": {
            "text/plain": [
              "2"
            ]
          },
          "metadata": {},
          "execution_count": 6
        }
      ]
    },
    {
      "cell_type": "code",
      "source": [
        "array[3:4+1]"
      ],
      "metadata": {
        "colab": {
          "base_uri": "https://localhost:8080/"
        },
        "id": "manRA1IJCBZH",
        "outputId": "1aab1ee9-974c-41cc-9d4d-4317d422c174"
      },
      "execution_count": 7,
      "outputs": [
        {
          "output_type": "execute_result",
          "data": {
            "text/plain": [
              "array([4, 5])"
            ]
          },
          "metadata": {},
          "execution_count": 7
        }
      ]
    },
    {
      "cell_type": "code",
      "source": [
        "# criando uma lista de indices e imprimindo os elementos da lista\n",
        "\n",
        "indices = [1,2,3]\n",
        "\n",
        "print(array[indices])"
      ],
      "metadata": {
        "colab": {
          "base_uri": "https://localhost:8080/"
        },
        "id": "U1El8RZJCFKR",
        "outputId": "79b63524-86de-4d1d-c4e2-4db5639cdc55"
      },
      "execution_count": 8,
      "outputs": [
        {
          "output_type": "stream",
          "name": "stdout",
          "text": [
            "[2 3 4]\n"
          ]
        }
      ]
    },
    {
      "cell_type": "code",
      "source": [
        "# criando uma máscara para impressão de elementos utilizando lógica booleana\n",
        "\n",
        "mask = (array % 2 == 0) # máscara de numeros pares"
      ],
      "metadata": {
        "id": "CY2ViV-CCNk3"
      },
      "execution_count": 9,
      "outputs": []
    },
    {
      "cell_type": "code",
      "source": [
        "mask"
      ],
      "metadata": {
        "colab": {
          "base_uri": "https://localhost:8080/"
        },
        "id": "DVP-wmxrCaif",
        "outputId": "db010d79-8595-486b-e52d-2115e08c0c29"
      },
      "execution_count": 10,
      "outputs": [
        {
          "output_type": "execute_result",
          "data": {
            "text/plain": [
              "array([False,  True, False,  True, False,  True])"
            ]
          },
          "metadata": {},
          "execution_count": 10
        }
      ]
    },
    {
      "cell_type": "code",
      "source": [
        "array[mask]"
      ],
      "metadata": {
        "colab": {
          "base_uri": "https://localhost:8080/"
        },
        "id": "apsHas-RCbMT",
        "outputId": "054efe34-8bfd-42d2-d2e6-82f7086e1b3f"
      },
      "execution_count": 11,
      "outputs": [
        {
          "output_type": "execute_result",
          "data": {
            "text/plain": [
              "array([2, 4, 6])"
            ]
          },
          "metadata": {},
          "execution_count": 11
        }
      ]
    },
    {
      "cell_type": "code",
      "source": [
        "# alterando elementos\n",
        "array[1] = 22"
      ],
      "metadata": {
        "id": "lgXeTB0hCdO5"
      },
      "execution_count": 12,
      "outputs": []
    },
    {
      "cell_type": "code",
      "source": [
        "array"
      ],
      "metadata": {
        "colab": {
          "base_uri": "https://localhost:8080/"
        },
        "id": "PLRz-vjVCgZC",
        "outputId": "763079e0-fc1c-49c1-e85b-db5f00aafb77"
      },
      "execution_count": 13,
      "outputs": [
        {
          "output_type": "execute_result",
          "data": {
            "text/plain": [
              "array([ 1, 22,  3,  4,  5,  6])"
            ]
          },
          "metadata": {},
          "execution_count": 13
        }
      ]
    },
    {
      "cell_type": "code",
      "source": [
        "array[mask]"
      ],
      "metadata": {
        "colab": {
          "base_uri": "https://localhost:8080/"
        },
        "id": "Tf0z-m2RCg5U",
        "outputId": "1fa580f0-c982-4ef3-ad06-166de14e1be4"
      },
      "execution_count": 14,
      "outputs": [
        {
          "output_type": "execute_result",
          "data": {
            "text/plain": [
              "array([22,  4,  6])"
            ]
          },
          "metadata": {},
          "execution_count": 14
        }
      ]
    },
    {
      "cell_type": "code",
      "source": [
        "# No numpy não é possível guardar elementos de tipos diferentes.\n",
        "\n",
        "try:\n",
        "  array[1] = \"Vinícius\"\n",
        "except:\n",
        "  print(\"Operação não foi realizada\")"
      ],
      "metadata": {
        "colab": {
          "base_uri": "https://localhost:8080/"
        },
        "id": "eCBrNzNFCidv",
        "outputId": "22fdfe11-4e9d-4b71-9dd2-091fbbea8dc7"
      },
      "execution_count": 15,
      "outputs": [
        {
          "output_type": "stream",
          "name": "stdout",
          "text": [
            "Operação não foi realizada\n"
          ]
        }
      ]
    },
    {
      "cell_type": "code",
      "source": [
        "type(array)"
      ],
      "metadata": {
        "colab": {
          "base_uri": "https://localhost:8080/"
        },
        "id": "XYZx__2VCxG5",
        "outputId": "0b0687f8-cbd2-4a76-d9aa-daae82906042"
      },
      "execution_count": 16,
      "outputs": [
        {
          "output_type": "execute_result",
          "data": {
            "text/plain": [
              "numpy.ndarray"
            ]
          },
          "metadata": {},
          "execution_count": 16
        }
      ]
    },
    {
      "cell_type": "code",
      "source": [
        "array.cumsum() # método de soma acumulada"
      ],
      "metadata": {
        "colab": {
          "base_uri": "https://localhost:8080/"
        },
        "id": "ZhvKfLKMC_Bx",
        "outputId": "6037d1eb-7364-4145-f915-9a174b5d2423"
      },
      "execution_count": 17,
      "outputs": [
        {
          "output_type": "execute_result",
          "data": {
            "text/plain": [
              "array([ 1, 23, 26, 30, 35, 41])"
            ]
          },
          "metadata": {},
          "execution_count": 17
        }
      ]
    },
    {
      "cell_type": "code",
      "source": [
        "array.cumprod() # método de produto acumulado"
      ],
      "metadata": {
        "colab": {
          "base_uri": "https://localhost:8080/"
        },
        "id": "atBvwJsYDCiS",
        "outputId": "e7a5bc63-c915-4c82-863b-da03af29f26c"
      },
      "execution_count": 18,
      "outputs": [
        {
          "output_type": "execute_result",
          "data": {
            "text/plain": [
              "array([   1,   22,   66,  264, 1320, 7920])"
            ]
          },
          "metadata": {},
          "execution_count": 18
        }
      ]
    },
    {
      "cell_type": "code",
      "source": [
        "# podemos também usaar o arange, definimos o start, stop e step.\n",
        "\n",
        "array = np.arange(0,100,5) # de 0 até 99 pulando de 5 em 5"
      ],
      "metadata": {
        "id": "FYPyVTa2DHbc"
      },
      "execution_count": 19,
      "outputs": []
    },
    {
      "cell_type": "code",
      "source": [
        "array"
      ],
      "metadata": {
        "colab": {
          "base_uri": "https://localhost:8080/"
        },
        "id": "Wrb8uPmwDTQX",
        "outputId": "21b8c0ca-8b7c-4cd9-a3c0-26aab0406658"
      },
      "execution_count": 20,
      "outputs": [
        {
          "output_type": "execute_result",
          "data": {
            "text/plain": [
              "array([ 0,  5, 10, 15, 20, 25, 30, 35, 40, 45, 50, 55, 60, 65, 70, 75, 80,\n",
              "       85, 90, 95])"
            ]
          },
          "metadata": {},
          "execution_count": 20
        }
      ]
    },
    {
      "cell_type": "code",
      "source": [
        "# preenchendo array com zeros\n",
        "\n",
        "array = np.zeros(15)"
      ],
      "metadata": {
        "id": "TVQ6zPDLDVYS"
      },
      "execution_count": 21,
      "outputs": []
    },
    {
      "cell_type": "code",
      "source": [
        "array"
      ],
      "metadata": {
        "colab": {
          "base_uri": "https://localhost:8080/"
        },
        "id": "aa2ECx5SDno2",
        "outputId": "feac200e-ba15-4d95-e483-e0dee17c3464"
      },
      "execution_count": 22,
      "outputs": [
        {
          "output_type": "execute_result",
          "data": {
            "text/plain": [
              "array([0., 0., 0., 0., 0., 0., 0., 0., 0., 0., 0., 0., 0., 0., 0.])"
            ]
          },
          "metadata": {},
          "execution_count": 22
        }
      ]
    },
    {
      "cell_type": "code",
      "source": [
        "# às vezes, em machine learning, é interessante começar com um array de zeros."
      ],
      "metadata": {
        "id": "y1bLx2C3DoHm"
      },
      "execution_count": 23,
      "outputs": []
    },
    {
      "cell_type": "code",
      "source": [
        "array = np.eye(10) # preenche a diagonal com 1's, sendo o parâmetro o tamanho da matriz quadrada."
      ],
      "metadata": {
        "id": "Ex1HZsXODyLh"
      },
      "execution_count": 24,
      "outputs": []
    },
    {
      "cell_type": "code",
      "source": [
        "array"
      ],
      "metadata": {
        "colab": {
          "base_uri": "https://localhost:8080/"
        },
        "id": "yc3HnP6pD1yk",
        "outputId": "364b1f25-2a09-4b07-bd42-59cc2651ab43"
      },
      "execution_count": 25,
      "outputs": [
        {
          "output_type": "execute_result",
          "data": {
            "text/plain": [
              "array([[1., 0., 0., 0., 0., 0., 0., 0., 0., 0.],\n",
              "       [0., 1., 0., 0., 0., 0., 0., 0., 0., 0.],\n",
              "       [0., 0., 1., 0., 0., 0., 0., 0., 0., 0.],\n",
              "       [0., 0., 0., 1., 0., 0., 0., 0., 0., 0.],\n",
              "       [0., 0., 0., 0., 1., 0., 0., 0., 0., 0.],\n",
              "       [0., 0., 0., 0., 0., 1., 0., 0., 0., 0.],\n",
              "       [0., 0., 0., 0., 0., 0., 1., 0., 0., 0.],\n",
              "       [0., 0., 0., 0., 0., 0., 0., 1., 0., 0.],\n",
              "       [0., 0., 0., 0., 0., 0., 0., 0., 1., 0.],\n",
              "       [0., 0., 0., 0., 0., 0., 0., 0., 0., 1.]])"
            ]
          },
          "metadata": {},
          "execution_count": 25
        }
      ]
    },
    {
      "cell_type": "code",
      "source": [
        "array = np.diag(np.array([1,2,3,4,5,6,7,8,9,10])) # modificando os valores da diagonal"
      ],
      "metadata": {
        "id": "tS_NMem4D53h"
      },
      "execution_count": 26,
      "outputs": []
    },
    {
      "cell_type": "code",
      "source": [
        "array"
      ],
      "metadata": {
        "colab": {
          "base_uri": "https://localhost:8080/"
        },
        "id": "62ZQHPdPETN3",
        "outputId": "da2e6b6f-d1ba-4405-a19a-f90fa5cc6c54"
      },
      "execution_count": 27,
      "outputs": [
        {
          "output_type": "execute_result",
          "data": {
            "text/plain": [
              "array([[ 1,  0,  0,  0,  0,  0,  0,  0,  0,  0],\n",
              "       [ 0,  2,  0,  0,  0,  0,  0,  0,  0,  0],\n",
              "       [ 0,  0,  3,  0,  0,  0,  0,  0,  0,  0],\n",
              "       [ 0,  0,  0,  4,  0,  0,  0,  0,  0,  0],\n",
              "       [ 0,  0,  0,  0,  5,  0,  0,  0,  0,  0],\n",
              "       [ 0,  0,  0,  0,  0,  6,  0,  0,  0,  0],\n",
              "       [ 0,  0,  0,  0,  0,  0,  7,  0,  0,  0],\n",
              "       [ 0,  0,  0,  0,  0,  0,  0,  8,  0,  0],\n",
              "       [ 0,  0,  0,  0,  0,  0,  0,  0,  9,  0],\n",
              "       [ 0,  0,  0,  0,  0,  0,  0,  0,  0, 10]])"
            ]
          },
          "metadata": {},
          "execution_count": 27
        }
      ]
    },
    {
      "cell_type": "code",
      "source": [
        "# E se eu quiser um array com valores lógicos?\n",
        "\n",
        "array = np.array([True, True, False, False, True, False, True, False, False, False, True])"
      ],
      "metadata": {
        "id": "mnusn3v5Efrt"
      },
      "execution_count": 28,
      "outputs": []
    },
    {
      "cell_type": "code",
      "source": [
        "array"
      ],
      "metadata": {
        "colab": {
          "base_uri": "https://localhost:8080/"
        },
        "id": "7nU59dtqEq7s",
        "outputId": "fd37aa86-6e5c-4979-cebd-baf9da68198a"
      },
      "execution_count": 29,
      "outputs": [
        {
          "output_type": "execute_result",
          "data": {
            "text/plain": [
              "array([ True,  True, False, False,  True, False,  True, False, False,\n",
              "       False,  True])"
            ]
          },
          "metadata": {},
          "execution_count": 29
        }
      ]
    },
    {
      "cell_type": "markdown",
      "source": [
        "LinSpace é uma função da biblioteca NumPy em Python que cria um array unidimensional com valores igualmente espaçados em um intervalo específico.\n",
        "\n",
        "Os parâmetros da função são:\n",
        "\n",
        "start: O valor inicial do intervalo.\n",
        "stop: O valor final do intervalo.\n",
        "num: O número de valores igualmente espaçados que você deseja gerar. O valor padrão é 50.\n",
        "endpoint: Se True, o valor final do intervalo é incluído na saída. Caso contrário, o valor final é excluído. O valor padrão é True.\n",
        "retstep: Se True, a função retorna uma tupla com dois elementos, o array gerado e o espaçamento entre os valores. O valor padrão é False.\n",
        "dtype: O tipo de dado do array de saída. O valor padrão é None, o que significa que o tipo será inferido automaticamente.\n",
        "Por exemplo, para criar um array com 10 valores igualmente espaçados entre 0 e 1, você pode usar o seguinte código:"
      ],
      "metadata": {
        "id": "IR8GnbYeE-8q"
      }
    },
    {
      "cell_type": "code",
      "source": [
        "lin = np.linspace(0,10)"
      ],
      "metadata": {
        "id": "aPgfGJjYFE60"
      },
      "execution_count": 30,
      "outputs": []
    },
    {
      "cell_type": "code",
      "source": [
        "lin"
      ],
      "metadata": {
        "colab": {
          "base_uri": "https://localhost:8080/"
        },
        "id": "DwxxWR99FKyh",
        "outputId": "6be402ed-2e3f-42df-8815-ed5c55d279c5"
      },
      "execution_count": 31,
      "outputs": [
        {
          "output_type": "execute_result",
          "data": {
            "text/plain": [
              "array([ 0.        ,  0.20408163,  0.40816327,  0.6122449 ,  0.81632653,\n",
              "        1.02040816,  1.2244898 ,  1.42857143,  1.63265306,  1.83673469,\n",
              "        2.04081633,  2.24489796,  2.44897959,  2.65306122,  2.85714286,\n",
              "        3.06122449,  3.26530612,  3.46938776,  3.67346939,  3.87755102,\n",
              "        4.08163265,  4.28571429,  4.48979592,  4.69387755,  4.89795918,\n",
              "        5.10204082,  5.30612245,  5.51020408,  5.71428571,  5.91836735,\n",
              "        6.12244898,  6.32653061,  6.53061224,  6.73469388,  6.93877551,\n",
              "        7.14285714,  7.34693878,  7.55102041,  7.75510204,  7.95918367,\n",
              "        8.16326531,  8.36734694,  8.57142857,  8.7755102 ,  8.97959184,\n",
              "        9.18367347,  9.3877551 ,  9.59183673,  9.79591837, 10.        ])"
            ]
          },
          "metadata": {},
          "execution_count": 31
        }
      ]
    },
    {
      "cell_type": "code",
      "source": [
        "# também podemos criar em escala logarítimica\n",
        "\n",
        "linLog = np.logspace(0,10)"
      ],
      "metadata": {
        "id": "GyQKWgiOFXDg"
      },
      "execution_count": 32,
      "outputs": []
    },
    {
      "cell_type": "code",
      "source": [
        "linLog"
      ],
      "metadata": {
        "colab": {
          "base_uri": "https://localhost:8080/"
        },
        "id": "CwiC-J90FhTL",
        "outputId": "ae75bceb-ea4d-4207-e62e-1c36b2605f13"
      },
      "execution_count": 33,
      "outputs": [
        {
          "output_type": "execute_result",
          "data": {
            "text/plain": [
              "array([1.00000000e+00, 1.59985872e+00, 2.55954792e+00, 4.09491506e+00,\n",
              "       6.55128557e+00, 1.04811313e+01, 1.67683294e+01, 2.68269580e+01,\n",
              "       4.29193426e+01, 6.86648845e+01, 1.09854114e+02, 1.75751062e+02,\n",
              "       2.81176870e+02, 4.49843267e+02, 7.19685673e+02, 1.15139540e+03,\n",
              "       1.84206997e+03, 2.94705170e+03, 4.71486636e+03, 7.54312006e+03,\n",
              "       1.20679264e+04, 1.93069773e+04, 3.08884360e+04, 4.94171336e+04,\n",
              "       7.90604321e+04, 1.26485522e+05, 2.02358965e+05, 3.23745754e+05,\n",
              "       5.17947468e+05, 8.28642773e+05, 1.32571137e+06, 2.12095089e+06,\n",
              "       3.39322177e+06, 5.42867544e+06, 8.68511374e+06, 1.38949549e+07,\n",
              "       2.22299648e+07, 3.55648031e+07, 5.68986603e+07, 9.10298178e+07,\n",
              "       1.45634848e+08, 2.32995181e+08, 3.72759372e+08, 5.96362332e+08,\n",
              "       9.54095476e+08, 1.52641797e+09, 2.44205309e+09, 3.90693994e+09,\n",
              "       6.25055193e+09, 1.00000000e+10])"
            ]
          },
          "metadata": {},
          "execution_count": 33
        }
      ]
    },
    {
      "cell_type": "markdown",
      "source": [
        "Manipulando matrizes com Numpy."
      ],
      "metadata": {
        "id": "uGmDW3YsFlBv"
      }
    },
    {
      "cell_type": "code",
      "source": [
        "matrix = np.array([[1, 2, 3], [4, 5, 6], [7, 8, 9]])"
      ],
      "metadata": {
        "id": "Mv2PrCfaFndm"
      },
      "execution_count": 34,
      "outputs": []
    },
    {
      "cell_type": "code",
      "source": [
        "matrix"
      ],
      "metadata": {
        "colab": {
          "base_uri": "https://localhost:8080/"
        },
        "id": "elGPSpSKF6d7",
        "outputId": "56a7df91-2fa4-41af-c89f-c3509952d75f"
      },
      "execution_count": 35,
      "outputs": [
        {
          "output_type": "execute_result",
          "data": {
            "text/plain": [
              "array([[1, 2, 3],\n",
              "       [4, 5, 6],\n",
              "       [7, 8, 9]])"
            ]
          },
          "metadata": {},
          "execution_count": 35
        }
      ]
    },
    {
      "cell_type": "code",
      "source": [
        "matrix.shape # matrix 3x3"
      ],
      "metadata": {
        "colab": {
          "base_uri": "https://localhost:8080/"
        },
        "id": "E7VLiqTJF7J6",
        "outputId": "f053d926-bafd-484d-b5a9-ad82aaf699dc"
      },
      "execution_count": 36,
      "outputs": [
        {
          "output_type": "execute_result",
          "data": {
            "text/plain": [
              "(3, 3)"
            ]
          },
          "metadata": {},
          "execution_count": 36
        }
      ]
    },
    {
      "cell_type": "code",
      "source": [
        "# Se caso eu tenha uma lista e queira transformar em um objeto matrix do numpy, também posso\n",
        "\n",
        "lista_de_listas = [[1, 5, 6], [9, 8, 7], [3, 5, 4]]"
      ],
      "metadata": {
        "id": "7lKF6GmGF-e-"
      },
      "execution_count": 37,
      "outputs": []
    },
    {
      "cell_type": "code",
      "source": [
        "matrix_lista = np.matrix(lista_de_listas)"
      ],
      "metadata": {
        "id": "sxEsHiJ0GL6J"
      },
      "execution_count": 38,
      "outputs": []
    },
    {
      "cell_type": "code",
      "source": [
        "matrix_lista"
      ],
      "metadata": {
        "colab": {
          "base_uri": "https://localhost:8080/"
        },
        "id": "V59XxwGZGPzT",
        "outputId": "0ca3fd07-25e4-4e3a-9ba8-f1352e0650ec"
      },
      "execution_count": 39,
      "outputs": [
        {
          "output_type": "execute_result",
          "data": {
            "text/plain": [
              "matrix([[1, 5, 6],\n",
              "        [9, 8, 7],\n",
              "        [3, 5, 4]])"
            ]
          },
          "metadata": {},
          "execution_count": 39
        }
      ]
    },
    {
      "cell_type": "code",
      "source": [
        "type(matrix_lista)"
      ],
      "metadata": {
        "colab": {
          "base_uri": "https://localhost:8080/"
        },
        "id": "OJSlWfKoGQ30",
        "outputId": "726e4c2d-6232-4c6d-ddef-9a53a0b60642"
      },
      "execution_count": 40,
      "outputs": [
        {
          "output_type": "execute_result",
          "data": {
            "text/plain": [
              "numpy.matrix"
            ]
          },
          "metadata": {},
          "execution_count": 40
        }
      ]
    },
    {
      "cell_type": "code",
      "source": [
        "matrix_lista.size"
      ],
      "metadata": {
        "colab": {
          "base_uri": "https://localhost:8080/"
        },
        "id": "or7ONXxqGTuW",
        "outputId": "e7678100-5f33-4773-86d8-3fe268a00167"
      },
      "execution_count": 41,
      "outputs": [
        {
          "output_type": "execute_result",
          "data": {
            "text/plain": [
              "9"
            ]
          },
          "metadata": {},
          "execution_count": 41
        }
      ]
    },
    {
      "cell_type": "code",
      "source": [
        "# quando criamos um array numpy, ele mesmo decide o tipo de dado. E se quisermos escolher o tipo?\n",
        "\n",
        "\n",
        "teste_1 = np.array([1, 2, 3, 4]) # aqui o numpy define o tipo\n",
        "teste_1.dtype"
      ],
      "metadata": {
        "colab": {
          "base_uri": "https://localhost:8080/"
        },
        "id": "ARrO6oKLGYWB",
        "outputId": "ca41be0b-0ef5-4a3f-dc78-832f7d239c1f"
      },
      "execution_count": 44,
      "outputs": [
        {
          "output_type": "execute_result",
          "data": {
            "text/plain": [
              "dtype('int64')"
            ]
          },
          "metadata": {},
          "execution_count": 44
        }
      ]
    },
    {
      "cell_type": "code",
      "source": [
        "teste_1 = np.array([1, 2, 3, 4, 5], dtype = float) # passando o tipo como parâmetro.\n",
        "teste_1.dtype"
      ],
      "metadata": {
        "colab": {
          "base_uri": "https://localhost:8080/"
        },
        "id": "CEIVZGgGAHhS",
        "outputId": "d7d27079-a819-4f35-e113-dbfc7a460cfe"
      },
      "execution_count": 47,
      "outputs": [
        {
          "output_type": "execute_result",
          "data": {
            "text/plain": [
              "dtype('float64')"
            ]
          },
          "metadata": {},
          "execution_count": 47
        }
      ]
    },
    {
      "cell_type": "code",
      "source": [
        "# temos também 3 métodos para os objetos nparray.\n",
        "\n",
        "print(teste_1.itemsize) # numeros de bytes necessários para armazenar cada valor do array\n",
        "print(teste_1.nbytes) # números de bytes totais\n",
        "print(teste_1.ndim) # número de dimensões do array\n"
      ],
      "metadata": {
        "colab": {
          "base_uri": "https://localhost:8080/"
        },
        "id": "E5477Kn9Ac66",
        "outputId": "aaf7c303-b552-4089-ae1d-ccd5ae8ca0ec"
      },
      "execution_count": 48,
      "outputs": [
        {
          "output_type": "stream",
          "name": "stdout",
          "text": [
            "8\n",
            "40\n",
            "1\n"
          ]
        }
      ]
    },
    {
      "cell_type": "markdown",
      "source": [
        "No NumPy, objetos de 3 dimensões ou mais são chamados de arrays multidimensionais ou tensores. O NumPy é capaz de trabalhar com esses objetos de maneira eficiente e flexível.\n",
        "\n",
        "Para criar um array multidimensional em NumPy, podemos utilizar a função numpy.array(). Podemos especificar as dimensões do array passando uma lista de listas, onde cada lista interna representa uma dimensão. "
      ],
      "metadata": {
        "id": "BoUbuJlTCfGH"
      }
    },
    {
      "cell_type": "code",
      "source": [
        "# criando array MD = 3\n",
        "\n",
        "array = np.array([\n",
        "                  \n",
        "            [         \n",
        "                \n",
        "                [1, 2, 3, 4],\n",
        "                [5, 6, 7, 8],\n",
        "                [9, 10, 11, 12]\n",
        "            ],\n",
        "             \n",
        "            [\n",
        "                [13, 14, 15, 16],\n",
        "                [17, 18, 19, 20],\n",
        "                [21, 22, 23, 24]\n",
        "            ],\n",
        "          \n",
        "            [\n",
        "                [25, 26, 27, 28],\n",
        "                [29, 30, 31, 32],\n",
        "                [33, 34, 35, 36]\n",
        "          \n",
        "            ]\n",
        "          \n",
        "         ])\n",
        "\n"
      ],
      "metadata": {
        "id": "UBWFZTq4C1KN"
      },
      "execution_count": 49,
      "outputs": []
    },
    {
      "cell_type": "code",
      "source": [
        "print(array)"
      ],
      "metadata": {
        "colab": {
          "base_uri": "https://localhost:8080/"
        },
        "id": "rd8CvMHzEH6N",
        "outputId": "a6d80482-3bc6-4bc2-e687-f82a0dcc8dc0"
      },
      "execution_count": 50,
      "outputs": [
        {
          "output_type": "stream",
          "name": "stdout",
          "text": [
            "[[[ 1  2  3  4]\n",
            "  [ 5  6  7  8]\n",
            "  [ 9 10 11 12]]\n",
            "\n",
            " [[13 14 15 16]\n",
            "  [17 18 19 20]\n",
            "  [21 22 23 24]]\n",
            "\n",
            " [[25 26 27 28]\n",
            "  [29 30 31 32]\n",
            "  [33 34 35 36]]]\n"
          ]
        }
      ]
    },
    {
      "cell_type": "code",
      "source": [
        "array.ndim"
      ],
      "metadata": {
        "colab": {
          "base_uri": "https://localhost:8080/"
        },
        "id": "laH4aPvXEJPo",
        "outputId": "849c2555-16f2-4958-dc20-c0145694f337"
      },
      "execution_count": 51,
      "outputs": [
        {
          "output_type": "execute_result",
          "data": {
            "text/plain": [
              "3"
            ]
          },
          "metadata": {},
          "execution_count": 51
        }
      ]
    },
    {
      "cell_type": "code",
      "source": [
        "# o índice em python começa por 0, porém devemos lembrar que a lógica é a mesma de listas, então são vários listas com seus índices e subíndices\n",
        "\n",
        "# aplicando outro valor\n",
        "\n",
        "array[0, 0, 1] # array de dimensão 1(posiçaõ 0), linha 0(primeira linha), valor de indice 0(primeiro valor)"
      ],
      "metadata": {
        "colab": {
          "base_uri": "https://localhost:8080/"
        },
        "id": "P7SEtmBhEP8q",
        "outputId": "93bd1eae-6567-44a9-ca75-12c0ac22f5c6"
      },
      "execution_count": 52,
      "outputs": [
        {
          "output_type": "execute_result",
          "data": {
            "text/plain": [
              "2"
            ]
          },
          "metadata": {},
          "execution_count": 52
        }
      ]
    },
    {
      "cell_type": "markdown",
      "source": [
        "Manipulando arquivos"
      ],
      "metadata": {
        "id": "qS2PlmV0EyGN"
      }
    },
    {
      "cell_type": "code",
      "source": [
        "import os\n",
        "ds = os.path.join(\"iris.csv\")"
      ],
      "metadata": {
        "id": "RrXuwmebE1qt"
      },
      "execution_count": 54,
      "outputs": []
    },
    {
      "cell_type": "code",
      "source": [
        "!more iris.csv"
      ],
      "metadata": {
        "colab": {
          "base_uri": "https://localhost:8080/"
        },
        "id": "cw4xzaExFEEd",
        "outputId": "0058b9d8-8906-46c0-cd5a-cf1ba35572c3"
      },
      "execution_count": 55,
      "outputs": [
        {
          "output_type": "stream",
          "name": "stdout",
          "text": [
            "sepal_length,sepal_width,petal_length,petal_width,species\n",
            "5.1,3.5,1.4,0.2,setosa\n",
            "4.9,3,1.4,0.2,setosa\n",
            "4.7,3.2,1.3,0.2,setosa\n",
            "4.6,3.1,1.5,0.2,setosa\n",
            "5,3.6,1.4,0.2,setosa\n",
            "5.4,3.9,1.7,0.4,setosa\n",
            "4.6,3.4,1.4,0.3,setosa\n",
            "5,3.4,1.5,0.2,setosa\n",
            "4.4,2.9,1.4,0.2,setosa\n",
            "4.9,3.1,1.5,0.1,setosa\n",
            "5.4,3.7,1.5,0.2,setosa\n",
            "4.8,3.4,1.6,0.2,setosa\n",
            "4.8,3,1.4,0.1,setosa\n",
            "4.3,3,1.1,0.1,setosa\n",
            "5.8,4,1.2,0.2,setosa\n",
            "5.7,4.4,1.5,0.4,setosa\n",
            "5.4,3.9,1.3,0.4,setosa\n",
            "5.1,3.5,1.4,0.3,setosa\n",
            "5.7,3.8,1.7,0.3,setosa\n",
            "5.1,3.8,1.5,0.3,setosa\n",
            "5.4,3.4,1.7,0.2,setosa\n",
            "5.1,3.7,1.5,0.4,setosa\n",
            "\u001b[K"
          ]
        }
      ]
    },
    {
      "cell_type": "code",
      "source": [
        "# e se quisermos jogar o dataset para dentro do array numpy?\n",
        "\n",
        "IRIS = np.loadtxt(ds, delimiter = \",\", usecols = (0, 1, 2, 3), skiprows = 1) # não pegando as strings, apenas os valores\n"
      ],
      "metadata": {
        "id": "Pivhd0zlFHDZ"
      },
      "execution_count": 58,
      "outputs": []
    },
    {
      "cell_type": "code",
      "source": [
        "print(IRIS)"
      ],
      "metadata": {
        "colab": {
          "base_uri": "https://localhost:8080/"
        },
        "id": "LpyPzB2_FhCi",
        "outputId": "b274d384-bd9a-4436-e0d0-2254bd8f423f"
      },
      "execution_count": 59,
      "outputs": [
        {
          "output_type": "stream",
          "name": "stdout",
          "text": [
            "[[5.1 3.5 1.4 0.2]\n",
            " [4.9 3.  1.4 0.2]\n",
            " [4.7 3.2 1.3 0.2]\n",
            " [4.6 3.1 1.5 0.2]\n",
            " [5.  3.6 1.4 0.2]\n",
            " [5.4 3.9 1.7 0.4]\n",
            " [4.6 3.4 1.4 0.3]\n",
            " [5.  3.4 1.5 0.2]\n",
            " [4.4 2.9 1.4 0.2]\n",
            " [4.9 3.1 1.5 0.1]\n",
            " [5.4 3.7 1.5 0.2]\n",
            " [4.8 3.4 1.6 0.2]\n",
            " [4.8 3.  1.4 0.1]\n",
            " [4.3 3.  1.1 0.1]\n",
            " [5.8 4.  1.2 0.2]\n",
            " [5.7 4.4 1.5 0.4]\n",
            " [5.4 3.9 1.3 0.4]\n",
            " [5.1 3.5 1.4 0.3]\n",
            " [5.7 3.8 1.7 0.3]\n",
            " [5.1 3.8 1.5 0.3]\n",
            " [5.4 3.4 1.7 0.2]\n",
            " [5.1 3.7 1.5 0.4]\n",
            " [4.6 3.6 1.  0.2]\n",
            " [5.1 3.3 1.7 0.5]\n",
            " [4.8 3.4 1.9 0.2]\n",
            " [5.  3.  1.6 0.2]\n",
            " [5.  3.4 1.6 0.4]\n",
            " [5.2 3.5 1.5 0.2]\n",
            " [5.2 3.4 1.4 0.2]\n",
            " [4.7 3.2 1.6 0.2]\n",
            " [4.8 3.1 1.6 0.2]\n",
            " [5.4 3.4 1.5 0.4]\n",
            " [5.2 4.1 1.5 0.1]\n",
            " [5.5 4.2 1.4 0.2]\n",
            " [4.9 3.1 1.5 0.1]\n",
            " [5.  3.2 1.2 0.2]\n",
            " [5.5 3.5 1.3 0.2]\n",
            " [4.9 3.1 1.5 0.1]\n",
            " [4.4 3.  1.3 0.2]\n",
            " [5.1 3.4 1.5 0.2]\n",
            " [5.  3.5 1.3 0.3]\n",
            " [4.5 2.3 1.3 0.3]\n",
            " [4.4 3.2 1.3 0.2]\n",
            " [5.  3.5 1.6 0.6]\n",
            " [5.1 3.8 1.9 0.4]\n",
            " [4.8 3.  1.4 0.3]\n",
            " [5.1 3.8 1.6 0.2]\n",
            " [4.6 3.2 1.4 0.2]\n",
            " [5.3 3.7 1.5 0.2]\n",
            " [5.  3.3 1.4 0.2]\n",
            " [7.  3.2 4.7 1.4]\n",
            " [6.4 3.2 4.5 1.5]\n",
            " [6.9 3.1 4.9 1.5]\n",
            " [5.5 2.3 4.  1.3]\n",
            " [6.5 2.8 4.6 1.5]\n",
            " [5.7 2.8 4.5 1.3]\n",
            " [6.3 3.3 4.7 1.6]\n",
            " [4.9 2.4 3.3 1. ]\n",
            " [6.6 2.9 4.6 1.3]\n",
            " [5.2 2.7 3.9 1.4]\n",
            " [5.  2.  3.5 1. ]\n",
            " [5.9 3.  4.2 1.5]\n",
            " [6.  2.2 4.  1. ]\n",
            " [6.1 2.9 4.7 1.4]\n",
            " [5.6 2.9 3.6 1.3]\n",
            " [6.7 3.1 4.4 1.4]\n",
            " [5.6 3.  4.5 1.5]\n",
            " [5.8 2.7 4.1 1. ]\n",
            " [6.2 2.2 4.5 1.5]\n",
            " [5.6 2.5 3.9 1.1]\n",
            " [5.9 3.2 4.8 1.8]\n",
            " [6.1 2.8 4.  1.3]\n",
            " [6.3 2.5 4.9 1.5]\n",
            " [6.1 2.8 4.7 1.2]\n",
            " [6.4 2.9 4.3 1.3]\n",
            " [6.6 3.  4.4 1.4]\n",
            " [6.8 2.8 4.8 1.4]\n",
            " [6.7 3.  5.  1.7]\n",
            " [6.  2.9 4.5 1.5]\n",
            " [5.7 2.6 3.5 1. ]\n",
            " [5.5 2.4 3.8 1.1]\n",
            " [5.5 2.4 3.7 1. ]\n",
            " [5.8 2.7 3.9 1.2]\n",
            " [6.  2.7 5.1 1.6]\n",
            " [5.4 3.  4.5 1.5]\n",
            " [6.  3.4 4.5 1.6]\n",
            " [6.7 3.1 4.7 1.5]\n",
            " [6.3 2.3 4.4 1.3]\n",
            " [5.6 3.  4.1 1.3]\n",
            " [5.5 2.5 4.  1.3]\n",
            " [5.5 2.6 4.4 1.2]\n",
            " [6.1 3.  4.6 1.4]\n",
            " [5.8 2.6 4.  1.2]\n",
            " [5.  2.3 3.3 1. ]\n",
            " [5.6 2.7 4.2 1.3]\n",
            " [5.7 3.  4.2 1.2]\n",
            " [5.7 2.9 4.2 1.3]\n",
            " [6.2 2.9 4.3 1.3]\n",
            " [5.1 2.5 3.  1.1]\n",
            " [5.7 2.8 4.1 1.3]\n",
            " [6.3 3.3 6.  2.5]\n",
            " [5.8 2.7 5.1 1.9]\n",
            " [7.1 3.  5.9 2.1]\n",
            " [6.3 2.9 5.6 1.8]\n",
            " [6.5 3.  5.8 2.2]\n",
            " [7.6 3.  6.6 2.1]\n",
            " [4.9 2.5 4.5 1.7]\n",
            " [7.3 2.9 6.3 1.8]\n",
            " [6.7 2.5 5.8 1.8]\n",
            " [7.2 3.6 6.1 2.5]\n",
            " [6.5 3.2 5.1 2. ]\n",
            " [6.4 2.7 5.3 1.9]\n",
            " [6.8 3.  5.5 2.1]\n",
            " [5.7 2.5 5.  2. ]\n",
            " [5.8 2.8 5.1 2.4]\n",
            " [6.4 3.2 5.3 2.3]\n",
            " [6.5 3.  5.5 1.8]\n",
            " [7.7 3.8 6.7 2.2]\n",
            " [7.7 2.6 6.9 2.3]\n",
            " [6.  2.2 5.  1.5]\n",
            " [6.9 3.2 5.7 2.3]\n",
            " [5.6 2.8 4.9 2. ]\n",
            " [7.7 2.8 6.7 2. ]\n",
            " [6.3 2.7 4.9 1.8]\n",
            " [6.7 3.3 5.7 2.1]\n",
            " [7.2 3.2 6.  1.8]\n",
            " [6.2 2.8 4.8 1.8]\n",
            " [6.1 3.  4.9 1.8]\n",
            " [6.4 2.8 5.6 2.1]\n",
            " [7.2 3.  5.8 1.6]\n",
            " [7.4 2.8 6.1 1.9]\n",
            " [7.9 3.8 6.4 2. ]\n",
            " [6.4 2.8 5.6 2.2]\n",
            " [6.3 2.8 5.1 1.5]\n",
            " [6.1 2.6 5.6 1.4]\n",
            " [7.7 3.  6.1 2.3]\n",
            " [6.3 3.4 5.6 2.4]\n",
            " [6.4 3.1 5.5 1.8]\n",
            " [6.  3.  4.8 1.8]\n",
            " [6.9 3.1 5.4 2.1]\n",
            " [6.7 3.1 5.6 2.4]\n",
            " [6.9 3.1 5.1 2.3]\n",
            " [5.8 2.7 5.1 1.9]\n",
            " [6.8 3.2 5.9 2.3]\n",
            " [6.7 3.3 5.7 2.5]\n",
            " [6.7 3.  5.2 2.3]\n",
            " [6.3 2.5 5.  1.9]\n",
            " [6.5 3.  5.2 2. ]\n",
            " [6.2 3.4 5.4 2.3]\n",
            " [5.9 3.  5.1 1.8]]\n"
          ]
        }
      ]
    },
    {
      "cell_type": "code",
      "source": [
        "# verificando o tipo do objeto e do dado\n",
        "\n",
        "print(type(IRIS))\n",
        "print(IRIS.dtype)"
      ],
      "metadata": {
        "colab": {
          "base_uri": "https://localhost:8080/"
        },
        "id": "R_uOAeqzFm3X",
        "outputId": "b9447232-4e84-45c0-8a12-09253f2293a9"
      },
      "execution_count": 61,
      "outputs": [
        {
          "output_type": "stream",
          "name": "stdout",
          "text": [
            "<class 'numpy.ndarray'>\n",
            "float64\n"
          ]
        }
      ]
    },
    {
      "cell_type": "markdown",
      "source": [
        "Analisando dados de maneira estatística"
      ],
      "metadata": {
        "id": "ekgY8y9rGGUd"
      }
    },
    {
      "cell_type": "code",
      "source": [
        "array = np.array([1, 5, 6, 6, 7, 7, 9, 10, 11, 6, 5, 3, 2, 2, 1, 34, 56, 2, 6, 7, 8])"
      ],
      "metadata": {
        "id": "6lCnHjSmGGvm"
      },
      "execution_count": 62,
      "outputs": []
    },
    {
      "cell_type": "code",
      "source": [
        "print(\"Média: \", np.mean(array))\n",
        "print(\"Mediana: \", np.median(array))\n",
        "print(\"Desvio padrão: \", np.std(array))\n",
        "print(\"Variância: \", np.var(array))"
      ],
      "metadata": {
        "colab": {
          "base_uri": "https://localhost:8080/"
        },
        "id": "lRxxyFL4GSAs",
        "outputId": "3a9a06e5-e5f3-4389-89e6-1e24fc6db673"
      },
      "execution_count": 65,
      "outputs": [
        {
          "output_type": "stream",
          "name": "stdout",
          "text": [
            "Média:  9.238095238095237\n",
            "Mediana:  6.0\n",
            "Desvio padrão:  12.401631082835\n",
            "Variância:  153.80045351473922\n"
          ]
        }
      ]
    },
    {
      "cell_type": "markdown",
      "source": [
        "Essas são medidas estatísticas comuns usadas para analisar e resumir um conjunto de dados.\n",
        "\n",
        "Média: é a soma de todos os valores em um conjunto de dados, dividido pelo número de elementos no conjunto. É uma medida de tendência central que representa o valor médio de um conjunto de dados.\n",
        "\n",
        "Mediana: é o valor que separa o conjunto de dados em duas partes iguais quando ordenados em ordem crescente ou decrescente. É uma medida de tendência central que não é influenciada por valores extremos (outliers).\n",
        "\n",
        "Variância: é uma medida de dispersão que indica a extensão em que os valores em um conjunto de dados diferem da média. É calculada pela soma dos quadrados das diferenças entre cada valor e a média, dividido pelo número de elementos no conjunto.\n",
        "\n",
        "Desvio padrão: é a raiz quadrada da variância e representa a medida de dispersão mais comumente usada. É calculado como a raiz quadrada da soma dos quadrados das diferenças entre cada valor e a média, dividido pelo número de elementos no conjunto. Ele indica o quão longe os valores estão da média, em média."
      ],
      "metadata": {
        "id": "hLY0kqpIHBA7"
      }
    },
    {
      "cell_type": "markdown",
      "source": [
        "Operações matemáticas com arrays NP"
      ],
      "metadata": {
        "id": "blXKMFH8HXJF"
      }
    },
    {
      "cell_type": "code",
      "source": [
        "# também podemos criar um array através de um range\n",
        "\n",
        "array = np.arange(0, 10)"
      ],
      "metadata": {
        "id": "HeQu_dyaHaZ9"
      },
      "execution_count": 66,
      "outputs": []
    },
    {
      "cell_type": "code",
      "source": [
        "print(array)"
      ],
      "metadata": {
        "colab": {
          "base_uri": "https://localhost:8080/"
        },
        "id": "NnZs52DoHhI0",
        "outputId": "32586064-bf20-460f-9a4e-455a0341eca8"
      },
      "execution_count": 67,
      "outputs": [
        {
          "output_type": "stream",
          "name": "stdout",
          "text": [
            "[0 1 2 3 4 5 6 7 8 9]\n"
          ]
        }
      ]
    },
    {
      "cell_type": "code",
      "source": [
        "print(\"Soma dos elementos: \", np.sum(array))\n",
        "print(\"Produto dos elementos: \", np.prod(array))\n",
        "print(\"Soma acumulada dos elementos: \", np.cumsum(array))"
      ],
      "metadata": {
        "colab": {
          "base_uri": "https://localhost:8080/"
        },
        "id": "lDYZlwYVHiG_",
        "outputId": "24d9ab08-c379-4187-8eca-d40f6bf1f435"
      },
      "execution_count": 70,
      "outputs": [
        {
          "output_type": "stream",
          "name": "stdout",
          "text": [
            "Soma dos elementos:  45\n",
            "Produto dos elementos:  0\n",
            "Soma acumulada dos elementos:  [ 0  1  3  6 10 15 21 28 36 45]\n"
          ]
        }
      ]
    },
    {
      "cell_type": "code",
      "source": [
        "array_2 = array"
      ],
      "metadata": {
        "id": "0sExWBqrHlZo"
      },
      "execution_count": 71,
      "outputs": []
    },
    {
      "cell_type": "code",
      "source": [
        "array_SOMADO = np.add(array, array_2)"
      ],
      "metadata": {
        "id": "siD6ygWjH4Fh"
      },
      "execution_count": 72,
      "outputs": []
    },
    {
      "cell_type": "code",
      "source": [
        "print(array_SOMADO)"
      ],
      "metadata": {
        "colab": {
          "base_uri": "https://localhost:8080/"
        },
        "id": "UvlvwWkrH9I5",
        "outputId": "5fe55d8b-0510-442d-93ad-81b27ccd4967"
      },
      "execution_count": 75,
      "outputs": [
        {
          "output_type": "stream",
          "name": "stdout",
          "text": [
            "[ 0  2  4  6  8 10 12 14 16 18]\n"
          ]
        }
      ]
    },
    {
      "cell_type": "code",
      "source": [
        "# e para multiplicar duas matrizes??\n",
        "\n",
        "\n",
        "array_MULT = np.dot(array, array_2)"
      ],
      "metadata": {
        "id": "IN18SOmeH_cL"
      },
      "execution_count": 76,
      "outputs": []
    },
    {
      "cell_type": "code",
      "source": [
        "print(array_MULT) # foi retornado um valor pq eles são de 1 dimensão"
      ],
      "metadata": {
        "colab": {
          "base_uri": "https://localhost:8080/"
        },
        "id": "S2S9Bl7QIK9I",
        "outputId": "18e5783a-4c43-464b-9445-fdb864ae95d8"
      },
      "execution_count": 77,
      "outputs": [
        {
          "output_type": "stream",
          "name": "stdout",
          "text": [
            "285\n"
          ]
        }
      ]
    },
    {
      "cell_type": "code",
      "source": [
        "# fatiamento de array\n",
        "\n",
        "array_SOMADO = array_SOMADO[0:3]"
      ],
      "metadata": {
        "id": "WoyEnS2sIMVL"
      },
      "execution_count": 78,
      "outputs": []
    },
    {
      "cell_type": "code",
      "source": [
        "print(array_SOMADO[0:3:1]) # printe da posição 0 até a 3, pulando de um em um"
      ],
      "metadata": {
        "colab": {
          "base_uri": "https://localhost:8080/"
        },
        "id": "m6VG0dvYIeQZ",
        "outputId": "7c795615-fb8e-4206-9190-b58e4fea6bfe"
      },
      "execution_count": 82,
      "outputs": [
        {
          "output_type": "stream",
          "name": "stdout",
          "text": [
            "[0 2 4]\n"
          ]
        }
      ]
    },
    {
      "cell_type": "code",
      "source": [
        "from numpy.core.arrayprint import array2string\n",
        "# comparando dois arrays\n",
        "\n",
        "array == array_2 # os dois são iguais"
      ],
      "metadata": {
        "colab": {
          "base_uri": "https://localhost:8080/"
        },
        "id": "DY8RiyzVIf-m",
        "outputId": "c2b69bcf-7468-42da-fa6c-68c4b6c691c3"
      },
      "execution_count": 84,
      "outputs": [
        {
          "output_type": "execute_result",
          "data": {
            "text/plain": [
              "array([ True,  True,  True,  True,  True,  True,  True,  True,  True,\n",
              "        True])"
            ]
          },
          "metadata": {},
          "execution_count": 84
        }
      ]
    },
    {
      "cell_type": "code",
      "source": [
        "# somando valor a cada elemento em específico do array\n",
        "\n",
        "array = np.array(array) + 4.5"
      ],
      "metadata": {
        "id": "i-7J9JfII4RR"
      },
      "execution_count": 89,
      "outputs": []
    },
    {
      "cell_type": "code",
      "source": [
        "print(array) # somou a cada elemento do array"
      ],
      "metadata": {
        "colab": {
          "base_uri": "https://localhost:8080/"
        },
        "id": "JO6JAIe-JLkb",
        "outputId": "389fbe6a-1fec-4d8b-c2c6-0c50f0bc2191"
      },
      "execution_count": 90,
      "outputs": [
        {
          "output_type": "stream",
          "name": "stdout",
          "text": [
            "[ 5.5  6.5  7.5  8.5  9.5 10.5 11.5 12.5 13.5 14.5]\n"
          ]
        }
      ]
    },
    {
      "cell_type": "markdown",
      "source": [
        "Embora o NumPy seja uma biblioteca para Python, não para R, ele pode ser útil em muitos contextos diferentes, especialmente para trabalhar com matrizes multidimensionais e operações numéricas. Ele permite que os usuários realizem cálculos matemáticos complexos de maneira rápida e eficiente em grandes conjuntos de dados.\n",
        "\n",
        "A documentação oficial do NumPy é uma fonte valiosa de informações, contendo exemplos de código, descrições de funções e informações sobre a sintaxe. Além disso, o site do NumPy possui uma comunidade ativa e fóruns de discussão onde os usuários podem fazer perguntas e obter ajuda de outros usuários e desenvolvedores experientes.\n",
        "\n",
        "É importante lembrar que o NumPy é apenas uma das muitas bibliotecas disponíveis para Python e que diferentes bibliotecas podem ser mais apropriadas para diferentes tarefas. No entanto, para quem está trabalhando com matrizes numéricas e precisa de alta performance, o NumPy pode ser uma excelente escolha.\n",
        "\n",
        "O NumPy pode ser encontrado no site oficial:\n",
        "\n",
        "https://numpy.org/\n",
        "\n",
        "Lá é possível encontrar documentação detalhada, tutoriais, exemplos de código, instalação e outras informações importantes sobre a biblioteca."
      ],
      "metadata": {
        "id": "WJuxCEjoJtTU"
      }
    }
  ]
}